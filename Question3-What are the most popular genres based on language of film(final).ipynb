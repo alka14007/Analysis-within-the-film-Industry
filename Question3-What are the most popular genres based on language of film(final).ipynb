{
 "cells": [
  {
   "cell_type": "code",
   "execution_count": 1,
   "metadata": {
    "colab": {
     "base_uri": "https://localhost:8080/"
    },
    "id": "Woe9AnuhH8r1",
    "outputId": "9bfadcb9-1fc3-450e-d84f-1c80211206ba"
   },
   "outputs": [
    {
     "name": "stdout",
     "output_type": "stream",
     "text": [
      "Requirement already satisfied: pycountry in c:\\users\\alka1\\anaconda3\\lib\\site-packages (22.3.5)\n",
      "Requirement already satisfied: setuptools in c:\\users\\alka1\\anaconda3\\lib\\site-packages (from pycountry) (68.0.0)\n"
     ]
    }
   ],
   "source": [
    "!pip install jovian --upgrade -q\n",
    "!pip install bar-chart-race -q\n",
    "!pip install pycountry"
   ]
  },
  {
   "cell_type": "markdown",
   "metadata": {
    "id": "P6XzTa8QH8r1"
   },
   "source": [
    "<hr style=\"height:10px; border-radius:10px; background: linear-gradient(to right, #0F2027, #203A43, #2C5364);\"> </hr>"
   ]
  },
  {
   "cell_type": "code",
   "execution_count": 2,
   "metadata": {
    "id": "9Mp8aJ0YH8r2"
   },
   "outputs": [],
   "source": [
    "import jovian\n",
    "import numpy as np; import pandas as pd; import matplotlib.pyplot as plt\n",
    "import seaborn as sns\n",
    "import bar_chart_race as bcr\n",
    "import pycountry\n",
    "import operator\n",
    "from collections import Counter\n",
    "import warnings\n",
    "\n",
    "from IPython.core.interactiveshell import InteractiveShell\n",
    "InteractiveShell.ast_node_interactivity = \"all\""
   ]
  },
  {
   "cell_type": "markdown",
   "metadata": {
    "id": "iRLWEJ4IH8r3"
   },
   "source": [
    "<hr style=\"height:5px; border-radius:10px; background: linear-gradient(to right, #0F2027, #203A43, #2C5364);\"> </hr>"
   ]
  },
  {
   "cell_type": "code",
   "execution_count": 3,
   "metadata": {
    "id": "xrA8r7sGH8r4"
   },
   "outputs": [],
   "source": [
    "warnings.filterwarnings('ignore')\n",
    "movies = pd.read_csv('movies_metadata.csv')\n",
    "pd.options.display.max_columns = 30\n",
    "pd.set_option('display.float_format', '{:,}'.format) #to display float with commas"
   ]
  },
  {
   "cell_type": "markdown",
   "metadata": {
    "id": "5KkAVf2xH8r4"
   },
   "source": [
    "<br></br>\n",
    "A quick look at the data."
   ]
  },
  {
   "cell_type": "code",
   "execution_count": 4,
   "metadata": {
    "colab": {
     "base_uri": "https://localhost:8080/",
     "height": 472
    },
    "id": "zAITuW_jH8r5",
    "outputId": "e5fef87e-032d-4e05-84d7-d8d17160e934"
   },
   "outputs": [
    {
     "data": {
      "text/html": [
       "<div>\n",
       "<style scoped>\n",
       "    .dataframe tbody tr th:only-of-type {\n",
       "        vertical-align: middle;\n",
       "    }\n",
       "\n",
       "    .dataframe tbody tr th {\n",
       "        vertical-align: top;\n",
       "    }\n",
       "\n",
       "    .dataframe thead th {\n",
       "        text-align: right;\n",
       "    }\n",
       "</style>\n",
       "<table border=\"1\" class=\"dataframe\">\n",
       "  <thead>\n",
       "    <tr style=\"text-align: right;\">\n",
       "      <th></th>\n",
       "      <th>adult</th>\n",
       "      <th>belongs_to_collection</th>\n",
       "      <th>budget</th>\n",
       "      <th>genres</th>\n",
       "      <th>homepage</th>\n",
       "      <th>imdb_id</th>\n",
       "      <th>original_language</th>\n",
       "      <th>original_title</th>\n",
       "      <th>overview</th>\n",
       "      <th>popularity</th>\n",
       "      <th>poster_path</th>\n",
       "      <th>production_companies</th>\n",
       "      <th>production_countries</th>\n",
       "      <th>release_date</th>\n",
       "      <th>revenue</th>\n",
       "      <th>runtime</th>\n",
       "      <th>spoken_languages</th>\n",
       "      <th>status</th>\n",
       "      <th>tagline</th>\n",
       "      <th>title</th>\n",
       "      <th>video</th>\n",
       "      <th>vote_average</th>\n",
       "      <th>vote_count</th>\n",
       "    </tr>\n",
       "    <tr>\n",
       "      <th>id</th>\n",
       "      <th></th>\n",
       "      <th></th>\n",
       "      <th></th>\n",
       "      <th></th>\n",
       "      <th></th>\n",
       "      <th></th>\n",
       "      <th></th>\n",
       "      <th></th>\n",
       "      <th></th>\n",
       "      <th></th>\n",
       "      <th></th>\n",
       "      <th></th>\n",
       "      <th></th>\n",
       "      <th></th>\n",
       "      <th></th>\n",
       "      <th></th>\n",
       "      <th></th>\n",
       "      <th></th>\n",
       "      <th></th>\n",
       "      <th></th>\n",
       "      <th></th>\n",
       "      <th></th>\n",
       "      <th></th>\n",
       "    </tr>\n",
       "  </thead>\n",
       "  <tbody>\n",
       "    <tr>\n",
       "      <th>862</th>\n",
       "      <td>False</td>\n",
       "      <td>{'id': 10194, 'name': 'Toy Story Collection', ...</td>\n",
       "      <td>30000000</td>\n",
       "      <td>[{'id': 16, 'name': 'Animation'}, {'id': 35, '...</td>\n",
       "      <td>http://toystory.disney.com/toy-story</td>\n",
       "      <td>tt0114709</td>\n",
       "      <td>en</td>\n",
       "      <td>Toy Story</td>\n",
       "      <td>Led by Woody, Andy's toys live happily in his ...</td>\n",
       "      <td>21.946943</td>\n",
       "      <td>/rhIRbceoE9lR4veEXuwCC2wARtG.jpg</td>\n",
       "      <td>[{'name': 'Pixar Animation Studios', 'id': 3}]</td>\n",
       "      <td>[{'iso_3166_1': 'US', 'name': 'United States o...</td>\n",
       "      <td>1995-10-30</td>\n",
       "      <td>373,554,033.0</td>\n",
       "      <td>81.0</td>\n",
       "      <td>[{'iso_639_1': 'en', 'name': 'English'}]</td>\n",
       "      <td>Released</td>\n",
       "      <td>NaN</td>\n",
       "      <td>Toy Story</td>\n",
       "      <td>False</td>\n",
       "      <td>7.7</td>\n",
       "      <td>5,415.0</td>\n",
       "    </tr>\n",
       "    <tr>\n",
       "      <th>8844</th>\n",
       "      <td>False</td>\n",
       "      <td>NaN</td>\n",
       "      <td>65000000</td>\n",
       "      <td>[{'id': 12, 'name': 'Adventure'}, {'id': 14, '...</td>\n",
       "      <td>NaN</td>\n",
       "      <td>tt0113497</td>\n",
       "      <td>en</td>\n",
       "      <td>Jumanji</td>\n",
       "      <td>When siblings Judy and Peter discover an encha...</td>\n",
       "      <td>17.015539</td>\n",
       "      <td>/vzmL6fP7aPKNKPRTFnZmiUfciyV.jpg</td>\n",
       "      <td>[{'name': 'TriStar Pictures', 'id': 559}, {'na...</td>\n",
       "      <td>[{'iso_3166_1': 'US', 'name': 'United States o...</td>\n",
       "      <td>1995-12-15</td>\n",
       "      <td>262,797,249.0</td>\n",
       "      <td>104.0</td>\n",
       "      <td>[{'iso_639_1': 'en', 'name': 'English'}, {'iso...</td>\n",
       "      <td>Released</td>\n",
       "      <td>Roll the dice and unleash the excitement!</td>\n",
       "      <td>Jumanji</td>\n",
       "      <td>False</td>\n",
       "      <td>6.9</td>\n",
       "      <td>2,413.0</td>\n",
       "    </tr>\n",
       "    <tr>\n",
       "      <th>15602</th>\n",
       "      <td>False</td>\n",
       "      <td>{'id': 119050, 'name': 'Grumpy Old Men Collect...</td>\n",
       "      <td>0</td>\n",
       "      <td>[{'id': 10749, 'name': 'Romance'}, {'id': 35, ...</td>\n",
       "      <td>NaN</td>\n",
       "      <td>tt0113228</td>\n",
       "      <td>en</td>\n",
       "      <td>Grumpier Old Men</td>\n",
       "      <td>A family wedding reignites the ancient feud be...</td>\n",
       "      <td>11.7129</td>\n",
       "      <td>/6ksm1sjKMFLbO7UY2i6G1ju9SML.jpg</td>\n",
       "      <td>[{'name': 'Warner Bros.', 'id': 6194}, {'name'...</td>\n",
       "      <td>[{'iso_3166_1': 'US', 'name': 'United States o...</td>\n",
       "      <td>1995-12-22</td>\n",
       "      <td>0.0</td>\n",
       "      <td>101.0</td>\n",
       "      <td>[{'iso_639_1': 'en', 'name': 'English'}]</td>\n",
       "      <td>Released</td>\n",
       "      <td>Still Yelling. Still Fighting. Still Ready for...</td>\n",
       "      <td>Grumpier Old Men</td>\n",
       "      <td>False</td>\n",
       "      <td>6.5</td>\n",
       "      <td>92.0</td>\n",
       "    </tr>\n",
       "  </tbody>\n",
       "</table>\n",
       "</div>"
      ],
      "text/plain": [
       "       adult                              belongs_to_collection    budget  \\\n",
       "id                                                                          \n",
       "862    False  {'id': 10194, 'name': 'Toy Story Collection', ...  30000000   \n",
       "8844   False                                                NaN  65000000   \n",
       "15602  False  {'id': 119050, 'name': 'Grumpy Old Men Collect...         0   \n",
       "\n",
       "                                                  genres  \\\n",
       "id                                                         \n",
       "862    [{'id': 16, 'name': 'Animation'}, {'id': 35, '...   \n",
       "8844   [{'id': 12, 'name': 'Adventure'}, {'id': 14, '...   \n",
       "15602  [{'id': 10749, 'name': 'Romance'}, {'id': 35, ...   \n",
       "\n",
       "                                   homepage    imdb_id original_language  \\\n",
       "id                                                                         \n",
       "862    http://toystory.disney.com/toy-story  tt0114709                en   \n",
       "8844                                    NaN  tt0113497                en   \n",
       "15602                                   NaN  tt0113228                en   \n",
       "\n",
       "         original_title                                           overview  \\\n",
       "id                                                                           \n",
       "862           Toy Story  Led by Woody, Andy's toys live happily in his ...   \n",
       "8844            Jumanji  When siblings Judy and Peter discover an encha...   \n",
       "15602  Grumpier Old Men  A family wedding reignites the ancient feud be...   \n",
       "\n",
       "      popularity                       poster_path  \\\n",
       "id                                                   \n",
       "862    21.946943  /rhIRbceoE9lR4veEXuwCC2wARtG.jpg   \n",
       "8844   17.015539  /vzmL6fP7aPKNKPRTFnZmiUfciyV.jpg   \n",
       "15602    11.7129  /6ksm1sjKMFLbO7UY2i6G1ju9SML.jpg   \n",
       "\n",
       "                                    production_companies  \\\n",
       "id                                                         \n",
       "862       [{'name': 'Pixar Animation Studios', 'id': 3}]   \n",
       "8844   [{'name': 'TriStar Pictures', 'id': 559}, {'na...   \n",
       "15602  [{'name': 'Warner Bros.', 'id': 6194}, {'name'...   \n",
       "\n",
       "                                    production_countries release_date  \\\n",
       "id                                                                      \n",
       "862    [{'iso_3166_1': 'US', 'name': 'United States o...   1995-10-30   \n",
       "8844   [{'iso_3166_1': 'US', 'name': 'United States o...   1995-12-15   \n",
       "15602  [{'iso_3166_1': 'US', 'name': 'United States o...   1995-12-22   \n",
       "\n",
       "            revenue  runtime  \\\n",
       "id                             \n",
       "862   373,554,033.0     81.0   \n",
       "8844  262,797,249.0    104.0   \n",
       "15602           0.0    101.0   \n",
       "\n",
       "                                        spoken_languages    status  \\\n",
       "id                                                                   \n",
       "862             [{'iso_639_1': 'en', 'name': 'English'}]  Released   \n",
       "8844   [{'iso_639_1': 'en', 'name': 'English'}, {'iso...  Released   \n",
       "15602           [{'iso_639_1': 'en', 'name': 'English'}]  Released   \n",
       "\n",
       "                                                 tagline             title  \\\n",
       "id                                                                           \n",
       "862                                                  NaN         Toy Story   \n",
       "8844           Roll the dice and unleash the excitement!           Jumanji   \n",
       "15602  Still Yelling. Still Fighting. Still Ready for...  Grumpier Old Men   \n",
       "\n",
       "       video  vote_average  vote_count  \n",
       "id                                      \n",
       "862    False           7.7     5,415.0  \n",
       "8844   False           6.9     2,413.0  \n",
       "15602  False           6.5        92.0  "
      ]
     },
     "execution_count": 4,
     "metadata": {},
     "output_type": "execute_result"
    }
   ],
   "source": [
    "movies.set_index('id', inplace=True)\n",
    "movies.head(3)"
   ]
  },
  {
   "cell_type": "code",
   "execution_count": 5,
   "metadata": {
    "colab": {
     "base_uri": "https://localhost:8080/"
    },
    "id": "1UicAM4xH8r5",
    "outputId": "af974850-c8f6-4041-b06a-e2fc4a0afabd"
   },
   "outputs": [
    {
     "name": "stdout",
     "output_type": "stream",
     "text": [
      "Number of rows: 45466\n",
      "Number of columns: 23\n"
     ]
    }
   ],
   "source": [
    "print(f'Number of rows: {movies.shape[0]}')\n",
    "print(f'Number of columns: {movies.shape[1]}')"
   ]
  },
  {
   "cell_type": "markdown",
   "metadata": {
    "id": "sAS5FuhbbRbt"
   },
   "source": [
    "Cleaning data"
   ]
  },
  {
   "cell_type": "code",
   "execution_count": 6,
   "metadata": {
    "id": "id79GbyzH8r6"
   },
   "outputs": [],
   "source": [
    "movies.drop(movies[movies['adult'] == 'True'].index, axis='rows', inplace=True)\n",
    "movies.drop(labels = ['adult', 'belongs_to_collection', 'homepage', 'poster_path', 'video'], axis='columns', inplace=True)"
   ]
  },
  {
   "cell_type": "markdown",
   "metadata": {
    "id": "4v0o9hqPH8r6"
   },
   "source": [
    "<br></br>\n",
    "We will be working with the remaning columns shown below. As the columns were all over the place, rearranging them with the reindex method makes it look more organized. "
   ]
  },
  {
   "cell_type": "code",
   "execution_count": 7,
   "metadata": {
    "colab": {
     "base_uri": "https://localhost:8080/",
     "height": 576
    },
    "id": "LOFyfcPAH8r6",
    "outputId": "a3629244-288a-4ad3-ef60-1d8a0e7a24eb"
   },
   "outputs": [
    {
     "data": {
      "text/plain": [
       "Index(['budget', 'genres', 'imdb_id', 'original_language', 'original_title',\n",
       "       'overview', 'popularity', 'production_companies',\n",
       "       'production_countries', 'release_date', 'revenue', 'runtime',\n",
       "       'spoken_languages', 'status', 'tagline', 'title', 'vote_average',\n",
       "       'vote_count'],\n",
       "      dtype='object')"
      ]
     },
     "execution_count": 7,
     "metadata": {},
     "output_type": "execute_result"
    },
    {
     "data": {
      "text/html": [
       "<div>\n",
       "<style scoped>\n",
       "    .dataframe tbody tr th:only-of-type {\n",
       "        vertical-align: middle;\n",
       "    }\n",
       "\n",
       "    .dataframe tbody tr th {\n",
       "        vertical-align: top;\n",
       "    }\n",
       "\n",
       "    .dataframe thead th {\n",
       "        text-align: right;\n",
       "    }\n",
       "</style>\n",
       "<table border=\"1\" class=\"dataframe\">\n",
       "  <thead>\n",
       "    <tr style=\"text-align: right;\">\n",
       "      <th></th>\n",
       "      <th>imdb_id</th>\n",
       "      <th>title</th>\n",
       "      <th>original_title</th>\n",
       "      <th>release_date</th>\n",
       "      <th>overview</th>\n",
       "      <th>tagline</th>\n",
       "      <th>genres</th>\n",
       "      <th>runtime</th>\n",
       "      <th>original_language</th>\n",
       "      <th>spoken_languages</th>\n",
       "      <th>production_companies</th>\n",
       "      <th>production_countries</th>\n",
       "      <th>budget</th>\n",
       "      <th>revenue</th>\n",
       "      <th>status</th>\n",
       "      <th>vote_average</th>\n",
       "      <th>vote_count</th>\n",
       "      <th>popularity</th>\n",
       "    </tr>\n",
       "    <tr>\n",
       "      <th>id</th>\n",
       "      <th></th>\n",
       "      <th></th>\n",
       "      <th></th>\n",
       "      <th></th>\n",
       "      <th></th>\n",
       "      <th></th>\n",
       "      <th></th>\n",
       "      <th></th>\n",
       "      <th></th>\n",
       "      <th></th>\n",
       "      <th></th>\n",
       "      <th></th>\n",
       "      <th></th>\n",
       "      <th></th>\n",
       "      <th></th>\n",
       "      <th></th>\n",
       "      <th></th>\n",
       "      <th></th>\n",
       "    </tr>\n",
       "  </thead>\n",
       "  <tbody>\n",
       "    <tr>\n",
       "      <th>862</th>\n",
       "      <td>tt0114709</td>\n",
       "      <td>Toy Story</td>\n",
       "      <td>Toy Story</td>\n",
       "      <td>1995-10-30</td>\n",
       "      <td>Led by Woody, Andy's toys live happily in his ...</td>\n",
       "      <td>NaN</td>\n",
       "      <td>[{'id': 16, 'name': 'Animation'}, {'id': 35, '...</td>\n",
       "      <td>81.0</td>\n",
       "      <td>en</td>\n",
       "      <td>[{'iso_639_1': 'en', 'name': 'English'}]</td>\n",
       "      <td>[{'name': 'Pixar Animation Studios', 'id': 3}]</td>\n",
       "      <td>[{'iso_3166_1': 'US', 'name': 'United States o...</td>\n",
       "      <td>30000000</td>\n",
       "      <td>373,554,033.0</td>\n",
       "      <td>Released</td>\n",
       "      <td>7.7</td>\n",
       "      <td>5,415.0</td>\n",
       "      <td>21.946943</td>\n",
       "    </tr>\n",
       "    <tr>\n",
       "      <th>8844</th>\n",
       "      <td>tt0113497</td>\n",
       "      <td>Jumanji</td>\n",
       "      <td>Jumanji</td>\n",
       "      <td>1995-12-15</td>\n",
       "      <td>When siblings Judy and Peter discover an encha...</td>\n",
       "      <td>Roll the dice and unleash the excitement!</td>\n",
       "      <td>[{'id': 12, 'name': 'Adventure'}, {'id': 14, '...</td>\n",
       "      <td>104.0</td>\n",
       "      <td>en</td>\n",
       "      <td>[{'iso_639_1': 'en', 'name': 'English'}, {'iso...</td>\n",
       "      <td>[{'name': 'TriStar Pictures', 'id': 559}, {'na...</td>\n",
       "      <td>[{'iso_3166_1': 'US', 'name': 'United States o...</td>\n",
       "      <td>65000000</td>\n",
       "      <td>262,797,249.0</td>\n",
       "      <td>Released</td>\n",
       "      <td>6.9</td>\n",
       "      <td>2,413.0</td>\n",
       "      <td>17.015539</td>\n",
       "    </tr>\n",
       "    <tr>\n",
       "      <th>15602</th>\n",
       "      <td>tt0113228</td>\n",
       "      <td>Grumpier Old Men</td>\n",
       "      <td>Grumpier Old Men</td>\n",
       "      <td>1995-12-22</td>\n",
       "      <td>A family wedding reignites the ancient feud be...</td>\n",
       "      <td>Still Yelling. Still Fighting. Still Ready for...</td>\n",
       "      <td>[{'id': 10749, 'name': 'Romance'}, {'id': 35, ...</td>\n",
       "      <td>101.0</td>\n",
       "      <td>en</td>\n",
       "      <td>[{'iso_639_1': 'en', 'name': 'English'}]</td>\n",
       "      <td>[{'name': 'Warner Bros.', 'id': 6194}, {'name'...</td>\n",
       "      <td>[{'iso_3166_1': 'US', 'name': 'United States o...</td>\n",
       "      <td>0</td>\n",
       "      <td>0.0</td>\n",
       "      <td>Released</td>\n",
       "      <td>6.5</td>\n",
       "      <td>92.0</td>\n",
       "      <td>11.7129</td>\n",
       "    </tr>\n",
       "  </tbody>\n",
       "</table>\n",
       "</div>"
      ],
      "text/plain": [
       "         imdb_id             title    original_title release_date  \\\n",
       "id                                                                  \n",
       "862    tt0114709         Toy Story         Toy Story   1995-10-30   \n",
       "8844   tt0113497           Jumanji           Jumanji   1995-12-15   \n",
       "15602  tt0113228  Grumpier Old Men  Grumpier Old Men   1995-12-22   \n",
       "\n",
       "                                                overview  \\\n",
       "id                                                         \n",
       "862    Led by Woody, Andy's toys live happily in his ...   \n",
       "8844   When siblings Judy and Peter discover an encha...   \n",
       "15602  A family wedding reignites the ancient feud be...   \n",
       "\n",
       "                                                 tagline  \\\n",
       "id                                                         \n",
       "862                                                  NaN   \n",
       "8844           Roll the dice and unleash the excitement!   \n",
       "15602  Still Yelling. Still Fighting. Still Ready for...   \n",
       "\n",
       "                                                  genres  runtime  \\\n",
       "id                                                                  \n",
       "862    [{'id': 16, 'name': 'Animation'}, {'id': 35, '...     81.0   \n",
       "8844   [{'id': 12, 'name': 'Adventure'}, {'id': 14, '...    104.0   \n",
       "15602  [{'id': 10749, 'name': 'Romance'}, {'id': 35, ...    101.0   \n",
       "\n",
       "      original_language                                   spoken_languages  \\\n",
       "id                                                                           \n",
       "862                  en           [{'iso_639_1': 'en', 'name': 'English'}]   \n",
       "8844                 en  [{'iso_639_1': 'en', 'name': 'English'}, {'iso...   \n",
       "15602                en           [{'iso_639_1': 'en', 'name': 'English'}]   \n",
       "\n",
       "                                    production_companies  \\\n",
       "id                                                         \n",
       "862       [{'name': 'Pixar Animation Studios', 'id': 3}]   \n",
       "8844   [{'name': 'TriStar Pictures', 'id': 559}, {'na...   \n",
       "15602  [{'name': 'Warner Bros.', 'id': 6194}, {'name'...   \n",
       "\n",
       "                                    production_countries    budget  \\\n",
       "id                                                                   \n",
       "862    [{'iso_3166_1': 'US', 'name': 'United States o...  30000000   \n",
       "8844   [{'iso_3166_1': 'US', 'name': 'United States o...  65000000   \n",
       "15602  [{'iso_3166_1': 'US', 'name': 'United States o...         0   \n",
       "\n",
       "            revenue    status  vote_average  vote_count popularity  \n",
       "id                                                                  \n",
       "862   373,554,033.0  Released           7.7     5,415.0  21.946943  \n",
       "8844  262,797,249.0  Released           6.9     2,413.0  17.015539  \n",
       "15602           0.0  Released           6.5        92.0    11.7129  "
      ]
     },
     "execution_count": 7,
     "metadata": {},
     "output_type": "execute_result"
    }
   ],
   "source": [
    "movies.columns\n",
    "movies = movies.reindex(columns = ['imdb_id','title','original_title','release_date','overview','tagline','genres', 'runtime',\n",
    "                                   'original_language','spoken_languages','production_companies','production_countries',\n",
    "                                   'budget', 'revenue','status',  'vote_average','vote_count','popularity',])\n",
    "movies.head(3)"
   ]
  },
  {
   "cell_type": "markdown",
   "metadata": {
    "id": "p0hquGg6H8r6"
   },
   "source": [
    "<hr style=\"height:5px; border-radius:10px; background: linear-gradient(to right, #0F2027, #203A43, #2C5364);\"> </hr>"
   ]
  },
  {
   "cell_type": "code",
   "execution_count": 8,
   "metadata": {
    "colab": {
     "base_uri": "https://localhost:8080/",
     "height": 175
    },
    "id": "8T7_sXYFH8r7",
    "outputId": "a3b52e75-22d8-4b42-e891-dd8a0d6a965a"
   },
   "outputs": [
    {
     "data": {
      "text/html": [
       "<div>\n",
       "<style scoped>\n",
       "    .dataframe tbody tr th:only-of-type {\n",
       "        vertical-align: middle;\n",
       "    }\n",
       "\n",
       "    .dataframe tbody tr th {\n",
       "        vertical-align: top;\n",
       "    }\n",
       "\n",
       "    .dataframe thead th {\n",
       "        text-align: right;\n",
       "    }\n",
       "</style>\n",
       "<table border=\"1\" class=\"dataframe\">\n",
       "  <thead>\n",
       "    <tr style=\"text-align: right;\">\n",
       "      <th></th>\n",
       "      <th>title</th>\n",
       "      <th>genres</th>\n",
       "      <th>production_companies</th>\n",
       "      <th>production_countries</th>\n",
       "      <th>spoken_languages</th>\n",
       "      <th>original_language</th>\n",
       "      <th>revenue</th>\n",
       "    </tr>\n",
       "    <tr>\n",
       "      <th>id</th>\n",
       "      <th></th>\n",
       "      <th></th>\n",
       "      <th></th>\n",
       "      <th></th>\n",
       "      <th></th>\n",
       "      <th></th>\n",
       "      <th></th>\n",
       "    </tr>\n",
       "  </thead>\n",
       "  <tbody>\n",
       "    <tr>\n",
       "      <th>862</th>\n",
       "      <td>Toy Story</td>\n",
       "      <td>[{'id': 16, 'name': 'Animation'}, {'id': 35, '...</td>\n",
       "      <td>[{'name': 'Pixar Animation Studios', 'id': 3}]</td>\n",
       "      <td>[{'iso_3166_1': 'US', 'name': 'United States o...</td>\n",
       "      <td>[{'iso_639_1': 'en', 'name': 'English'}]</td>\n",
       "      <td>en</td>\n",
       "      <td>373,554,033.0</td>\n",
       "    </tr>\n",
       "    <tr>\n",
       "      <th>8844</th>\n",
       "      <td>Jumanji</td>\n",
       "      <td>[{'id': 12, 'name': 'Adventure'}, {'id': 14, '...</td>\n",
       "      <td>[{'name': 'TriStar Pictures', 'id': 559}, {'na...</td>\n",
       "      <td>[{'iso_3166_1': 'US', 'name': 'United States o...</td>\n",
       "      <td>[{'iso_639_1': 'en', 'name': 'English'}, {'iso...</td>\n",
       "      <td>en</td>\n",
       "      <td>262,797,249.0</td>\n",
       "    </tr>\n",
       "    <tr>\n",
       "      <th>15602</th>\n",
       "      <td>Grumpier Old Men</td>\n",
       "      <td>[{'id': 10749, 'name': 'Romance'}, {'id': 35, ...</td>\n",
       "      <td>[{'name': 'Warner Bros.', 'id': 6194}, {'name'...</td>\n",
       "      <td>[{'iso_3166_1': 'US', 'name': 'United States o...</td>\n",
       "      <td>[{'iso_639_1': 'en', 'name': 'English'}]</td>\n",
       "      <td>en</td>\n",
       "      <td>0.0</td>\n",
       "    </tr>\n",
       "  </tbody>\n",
       "</table>\n",
       "</div>"
      ],
      "text/plain": [
       "                  title                                             genres  \\\n",
       "id                                                                           \n",
       "862           Toy Story  [{'id': 16, 'name': 'Animation'}, {'id': 35, '...   \n",
       "8844            Jumanji  [{'id': 12, 'name': 'Adventure'}, {'id': 14, '...   \n",
       "15602  Grumpier Old Men  [{'id': 10749, 'name': 'Romance'}, {'id': 35, ...   \n",
       "\n",
       "                                    production_companies  \\\n",
       "id                                                         \n",
       "862       [{'name': 'Pixar Animation Studios', 'id': 3}]   \n",
       "8844   [{'name': 'TriStar Pictures', 'id': 559}, {'na...   \n",
       "15602  [{'name': 'Warner Bros.', 'id': 6194}, {'name'...   \n",
       "\n",
       "                                    production_countries  \\\n",
       "id                                                         \n",
       "862    [{'iso_3166_1': 'US', 'name': 'United States o...   \n",
       "8844   [{'iso_3166_1': 'US', 'name': 'United States o...   \n",
       "15602  [{'iso_3166_1': 'US', 'name': 'United States o...   \n",
       "\n",
       "                                        spoken_languages original_language  \\\n",
       "id                                                                           \n",
       "862             [{'iso_639_1': 'en', 'name': 'English'}]                en   \n",
       "8844   [{'iso_639_1': 'en', 'name': 'English'}, {'iso...                en   \n",
       "15602           [{'iso_639_1': 'en', 'name': 'English'}]                en   \n",
       "\n",
       "            revenue  \n",
       "id                   \n",
       "862   373,554,033.0  \n",
       "8844  262,797,249.0  \n",
       "15602           0.0  "
      ]
     },
     "execution_count": 8,
     "metadata": {},
     "output_type": "execute_result"
    }
   ],
   "source": [
    "movies[['title', 'genres', 'production_companies', 'production_countries', 'spoken_languages', 'original_language', 'revenue']].head(3)"
   ]
  },
  {
   "cell_type": "code",
   "execution_count": 9,
   "metadata": {
    "id": "9IZED8cKH8r7"
   },
   "outputs": [],
   "source": [
    "import re\n",
    "\n",
    "regex = re.compile(r\": '(.*?)'\")\n",
    "movies['genres'] = movies['genres'].apply(lambda x: ', '.join(regex.findall(x)))"
   ]
  },
  {
   "cell_type": "code",
   "execution_count": 10,
   "metadata": {
    "colab": {
     "base_uri": "https://localhost:8080/",
     "height": 175
    },
    "id": "UZ-M-pKYH8r-",
    "outputId": "0efaeca9-b4d6-475b-cf17-8e80e6d9fec5"
   },
   "outputs": [
    {
     "data": {
      "text/html": [
       "<div>\n",
       "<style scoped>\n",
       "    .dataframe tbody tr th:only-of-type {\n",
       "        vertical-align: middle;\n",
       "    }\n",
       "\n",
       "    .dataframe tbody tr th {\n",
       "        vertical-align: top;\n",
       "    }\n",
       "\n",
       "    .dataframe thead th {\n",
       "        text-align: right;\n",
       "    }\n",
       "</style>\n",
       "<table border=\"1\" class=\"dataframe\">\n",
       "  <thead>\n",
       "    <tr style=\"text-align: right;\">\n",
       "      <th></th>\n",
       "      <th>title</th>\n",
       "      <th>genres</th>\n",
       "      <th>production_companies</th>\n",
       "      <th>production_countries</th>\n",
       "      <th>spoken_languages</th>\n",
       "    </tr>\n",
       "    <tr>\n",
       "      <th>id</th>\n",
       "      <th></th>\n",
       "      <th></th>\n",
       "      <th></th>\n",
       "      <th></th>\n",
       "      <th></th>\n",
       "    </tr>\n",
       "  </thead>\n",
       "  <tbody>\n",
       "    <tr>\n",
       "      <th>862</th>\n",
       "      <td>Toy Story</td>\n",
       "      <td>Animation, Comedy, Family</td>\n",
       "      <td>[{'name': 'Pixar Animation Studios', 'id': 3}]</td>\n",
       "      <td>[{'iso_3166_1': 'US', 'name': 'United States o...</td>\n",
       "      <td>[{'iso_639_1': 'en', 'name': 'English'}]</td>\n",
       "    </tr>\n",
       "    <tr>\n",
       "      <th>8844</th>\n",
       "      <td>Jumanji</td>\n",
       "      <td>Adventure, Fantasy, Family</td>\n",
       "      <td>[{'name': 'TriStar Pictures', 'id': 559}, {'na...</td>\n",
       "      <td>[{'iso_3166_1': 'US', 'name': 'United States o...</td>\n",
       "      <td>[{'iso_639_1': 'en', 'name': 'English'}, {'iso...</td>\n",
       "    </tr>\n",
       "    <tr>\n",
       "      <th>15602</th>\n",
       "      <td>Grumpier Old Men</td>\n",
       "      <td>Romance, Comedy</td>\n",
       "      <td>[{'name': 'Warner Bros.', 'id': 6194}, {'name'...</td>\n",
       "      <td>[{'iso_3166_1': 'US', 'name': 'United States o...</td>\n",
       "      <td>[{'iso_639_1': 'en', 'name': 'English'}]</td>\n",
       "    </tr>\n",
       "  </tbody>\n",
       "</table>\n",
       "</div>"
      ],
      "text/plain": [
       "                  title                      genres  \\\n",
       "id                                                    \n",
       "862           Toy Story   Animation, Comedy, Family   \n",
       "8844            Jumanji  Adventure, Fantasy, Family   \n",
       "15602  Grumpier Old Men             Romance, Comedy   \n",
       "\n",
       "                                    production_companies  \\\n",
       "id                                                         \n",
       "862       [{'name': 'Pixar Animation Studios', 'id': 3}]   \n",
       "8844   [{'name': 'TriStar Pictures', 'id': 559}, {'na...   \n",
       "15602  [{'name': 'Warner Bros.', 'id': 6194}, {'name'...   \n",
       "\n",
       "                                    production_countries  \\\n",
       "id                                                         \n",
       "862    [{'iso_3166_1': 'US', 'name': 'United States o...   \n",
       "8844   [{'iso_3166_1': 'US', 'name': 'United States o...   \n",
       "15602  [{'iso_3166_1': 'US', 'name': 'United States o...   \n",
       "\n",
       "                                        spoken_languages  \n",
       "id                                                        \n",
       "862             [{'iso_639_1': 'en', 'name': 'English'}]  \n",
       "8844   [{'iso_639_1': 'en', 'name': 'English'}, {'iso...  \n",
       "15602           [{'iso_639_1': 'en', 'name': 'English'}]  "
      ]
     },
     "execution_count": 10,
     "metadata": {},
     "output_type": "execute_result"
    }
   ],
   "source": [
    "movies[['title', 'genres', 'production_companies', 'production_countries', 'spoken_languages']].head(3)"
   ]
  },
  {
   "cell_type": "markdown",
   "metadata": {
    "id": "_9RStDn5H8r-"
   },
   "source": [
    "<hr style=\"height:5px; border-radius:10px; background: linear-gradient(to right, #0F2027, #203A43, #2C5364);\"> </hr>"
   ]
  },
  {
   "cell_type": "code",
   "execution_count": 31,
   "metadata": {
    "colab": {
     "base_uri": "https://localhost:8080/"
    },
    "id": "iVl3PNvrH8sJ",
    "outputId": "c5f9d639-6109-4706-8713-1eccbee76699"
   },
   "outputs": [
    {
     "name": "stdout",
     "output_type": "stream",
     "text": [
      "Number of missing values in revenue: 4\n",
      "Number of missing values in revenue after drop: 0\n"
     ]
    }
   ],
   "source": [
    "print('Number of missing values in revenue: {}'.format(movies['revenue'].isna().sum()))\n",
    "movies.dropna(subset=['revenue'], inplace=True)\n",
    "print('Number of missing values in revenue after drop: {}'.format(movies['revenue'].isna().sum()))"
   ]
  },
  {
   "cell_type": "code",
   "execution_count": 32,
   "metadata": {},
   "outputs": [
    {
     "name": "stdout",
     "output_type": "stream",
     "text": [
      "Number of duplicate revenue before drop: 38541\n",
      "Number of duplicate revenue remaining: 0\n"
     ]
    }
   ],
   "source": [
    "print('Number of duplicate revenue before drop: {}'.format(movies['revenue'].duplicated().sum()))\n",
    "movies.drop_duplicates('revenue', inplace=True)\n",
    "print('Number of duplicate revenue remaining: {}'.format(movies['revenue'].duplicated().sum()))"
   ]
  },
  {
   "cell_type": "markdown",
   "metadata": {
    "id": "qKKjG0JzH8sK"
   },
   "source": [
    "<hr style=\"height:5px; border-radius:10px; background: linear-gradient(to right, #0F2027, #203A43, #2C5364);\"> </hr>"
   ]
  },
  {
   "cell_type": "markdown",
   "metadata": {
    "id": "7zeNeZkeH8sM"
   },
   "source": [
    "## Data Exploration and Visualization <a id='C54'></a>"
   ]
  },
  {
   "cell_type": "markdown",
   "metadata": {
    "id": "EOSL6NqSH8sN"
   },
   "source": [
    "<hr style=\"height:5px; border-radius:10px; background: linear-gradient(to right, #0F2027, #203A43, #2C5364);\"> </hr>"
   ]
  },
  {
   "cell_type": "markdown",
   "metadata": {
    "id": "2FMdA73IH8sN"
   },
   "source": [
    "### Top 10 <a id='C60'></a>"
   ]
  },
  {
   "cell_type": "markdown",
   "metadata": {
    "id": "uyYY4TuaH8sP"
   },
   "source": [
    "<hr style=\"height:2px; border-radius:10px; background: linear-gradient(to right, #0F2027, #203A43, #2C5364);\"> </hr>"
   ]
  },
  {
   "cell_type": "markdown",
   "metadata": {
    "id": "8cUJUsbAH8sY"
   },
   "source": [
    "#### What are the top 10 languages in terms of revenue ? <a id='C106'></a>\n"
   ]
  },
  {
   "cell_type": "code",
   "execution_count": 33,
   "metadata": {
    "colab": {
     "base_uri": "https://localhost:8080/",
     "height": 710
    },
    "id": "oPvC1klVH8sZ",
    "outputId": "fa98e5c0-c2a0-4bac-ebe8-ba3acefc3b94",
    "scrolled": true
   },
   "outputs": [
    {
     "data": {
      "text/html": [
       "<div>\n",
       "<style scoped>\n",
       "    .dataframe tbody tr th:only-of-type {\n",
       "        vertical-align: middle;\n",
       "    }\n",
       "\n",
       "    .dataframe tbody tr th {\n",
       "        vertical-align: top;\n",
       "    }\n",
       "\n",
       "    .dataframe thead th {\n",
       "        text-align: right;\n",
       "    }\n",
       "</style>\n",
       "<table border=\"1\" class=\"dataframe\">\n",
       "  <thead>\n",
       "    <tr style=\"text-align: right;\">\n",
       "      <th></th>\n",
       "      <th>revenue</th>\n",
       "      <th>language</th>\n",
       "    </tr>\n",
       "    <tr>\n",
       "      <th>original_language</th>\n",
       "      <th></th>\n",
       "      <th></th>\n",
       "    </tr>\n",
       "  </thead>\n",
       "  <tbody>\n",
       "    <tr>\n",
       "      <th>en</th>\n",
       "      <td>484,565,407,058.0</td>\n",
       "      <td>English</td>\n",
       "    </tr>\n",
       "    <tr>\n",
       "      <th>ja</th>\n",
       "      <td>3,406,920,997.0</td>\n",
       "      <td>Japanese</td>\n",
       "    </tr>\n",
       "    <tr>\n",
       "      <th>zh</th>\n",
       "      <td>2,900,262,298.0</td>\n",
       "      <td>Chinese</td>\n",
       "    </tr>\n",
       "    <tr>\n",
       "      <th>fr</th>\n",
       "      <td>2,602,601,986.0</td>\n",
       "      <td>French</td>\n",
       "    </tr>\n",
       "    <tr>\n",
       "      <th>hi</th>\n",
       "      <td>1,455,424,630.0</td>\n",
       "      <td>Hindi</td>\n",
       "    </tr>\n",
       "    <tr>\n",
       "      <th>es</th>\n",
       "      <td>1,019,473,285.0</td>\n",
       "      <td>Spanish</td>\n",
       "    </tr>\n",
       "    <tr>\n",
       "      <th>ko</th>\n",
       "      <td>849,143,445.0</td>\n",
       "      <td>Korean</td>\n",
       "    </tr>\n",
       "    <tr>\n",
       "      <th>cn</th>\n",
       "      <td>841,525,769.0</td>\n",
       "      <td>Chinese</td>\n",
       "    </tr>\n",
       "    <tr>\n",
       "      <th>ru</th>\n",
       "      <td>698,048,862.0</td>\n",
       "      <td>Russian</td>\n",
       "    </tr>\n",
       "    <tr>\n",
       "      <th>de</th>\n",
       "      <td>626,697,009.0</td>\n",
       "      <td>German</td>\n",
       "    </tr>\n",
       "  </tbody>\n",
       "</table>\n",
       "</div>"
      ],
      "text/plain": [
       "                            revenue  language\n",
       "original_language                            \n",
       "en                484,565,407,058.0   English\n",
       "ja                  3,406,920,997.0  Japanese\n",
       "zh                  2,900,262,298.0   Chinese\n",
       "fr                  2,602,601,986.0    French\n",
       "hi                  1,455,424,630.0     Hindi\n",
       "es                  1,019,473,285.0   Spanish\n",
       "ko                    849,143,445.0    Korean\n",
       "cn                    841,525,769.0   Chinese\n",
       "ru                    698,048,862.0   Russian\n",
       "de                    626,697,009.0    German"
      ]
     },
     "execution_count": 33,
     "metadata": {},
     "output_type": "execute_result"
    }
   ],
   "source": [
    "def get_language(short_code):                                   \n",
    "    language = pycountry.languages.get(alpha_2=str(short_code))\n",
    "    if language:\n",
    "        return language.name\n",
    "    else:\n",
    "        return np.nan\n",
    "top10_lang_rev = movies.groupby('original_language').sum()['revenue'].sort_values(ascending=False)[:10].to_frame()\n",
    "top10_lang_rev['language'] = top10_lang_rev.index.map(get_language).fillna('Chinese')\n",
    "top10_lang_rev"
   ]
  },
  {
   "cell_type": "code",
   "execution_count": 27,
   "metadata": {
    "colab": {
     "base_uri": "https://localhost:8080/",
     "height": 582
    },
    "id": "qhLGJwThYyW1",
    "outputId": "0cbc7447-e680-44b0-eaf8-1eb9acde1da0"
   },
   "outputs": [
    {
     "data": {
      "text/plain": [
       "<Figure size 1200x600 with 0 Axes>"
      ]
     },
     "execution_count": 27,
     "metadata": {},
     "output_type": "execute_result"
    },
    {
     "data": {
      "text/plain": [
       "<BarContainer object of 10 artists>"
      ]
     },
     "execution_count": 27,
     "metadata": {},
     "output_type": "execute_result"
    },
    {
     "data": {
      "text/plain": [
       "Text(0.5, 1.0, 'Top 10 Languages by Revenue')"
      ]
     },
     "execution_count": 27,
     "metadata": {},
     "output_type": "execute_result"
    },
    {
     "data": {
      "text/plain": [
       "Text(0.5, 0, 'Language')"
      ]
     },
     "execution_count": 27,
     "metadata": {},
     "output_type": "execute_result"
    },
    {
     "data": {
      "text/plain": [
       "Text(0, 0.5, 'Total Revenue')"
      ]
     },
     "execution_count": 27,
     "metadata": {},
     "output_type": "execute_result"
    },
    {
     "data": {
      "image/png": "[encoded data removed]",
      "text/plain": [
       "<Figure size 1200x600 with 1 Axes>"
      ]
     },
     "metadata": {},
     "output_type": "display_data"
    }
   ],
   "source": [
    "import matplotlib.pyplot as plt\n",
    "\n",
    "\n",
    "\n",
    "plt.figure(figsize=(12, 6))\n",
    "plt.barh(top10_lang_rev['language'], top10_lang_rev['revenue'], color='skyblue')\n",
    "plt.title('Top 10 Languages by Revenue')\n",
    "plt.xlabel('Language')\n",
    "plt.ylabel('Total Revenue')\n",
    "plt.grid(axis='y', linestyle='--', alpha=0.7)\n",
    "\n",
    "plt.show()\n"
   ]
  },
  {
   "cell_type": "markdown",
   "metadata": {
    "id": "TjhHLOpTH8sa"
   },
   "source": [
    "##### Top 10 Movies in Top 10 Languages with the Highest Revenue"
   ]
  },
  {
   "cell_type": "code",
   "execution_count": 34,
   "metadata": {
    "colab": {
     "base_uri": "https://localhost:8080/",
     "height": 550
    },
    "id": "7kIU1GuvH8sa",
    "outputId": "4499c054-e858-4ebb-c75d-f866744af9e9"
   },
   "outputs": [
    {
     "data": {
      "text/html": [
       "<div>\n",
       "<style scoped>\n",
       "    .dataframe tbody tr th:only-of-type {\n",
       "        vertical-align: middle;\n",
       "    }\n",
       "\n",
       "    .dataframe tbody tr th {\n",
       "        vertical-align: top;\n",
       "    }\n",
       "\n",
       "    .dataframe thead th {\n",
       "        text-align: right;\n",
       "    }\n",
       "</style>\n",
       "<table border=\"1\" class=\"dataframe\">\n",
       "  <thead>\n",
       "    <tr style=\"text-align: right;\">\n",
       "      <th></th>\n",
       "      <th>vote_rank</th>\n",
       "      <th>1</th>\n",
       "      <th>2</th>\n",
       "      <th>3</th>\n",
       "      <th>4</th>\n",
       "      <th>5</th>\n",
       "      <th>6</th>\n",
       "      <th>7</th>\n",
       "      <th>8</th>\n",
       "      <th>9</th>\n",
       "      <th>10</th>\n",
       "    </tr>\n",
       "    <tr>\n",
       "      <th>language</th>\n",
       "      <th>original_language</th>\n",
       "      <th></th>\n",
       "      <th></th>\n",
       "      <th></th>\n",
       "      <th></th>\n",
       "      <th></th>\n",
       "      <th></th>\n",
       "      <th></th>\n",
       "      <th></th>\n",
       "      <th></th>\n",
       "      <th></th>\n",
       "    </tr>\n",
       "  </thead>\n",
       "  <tbody>\n",
       "    <tr>\n",
       "      <th rowspan=\"2\" valign=\"top\">Chinese</th>\n",
       "      <th>cn</th>\n",
       "      <td>The Accidental Spy</td>\n",
       "      <td>CJ7</td>\n",
       "      <td>Mr. Nice Guy</td>\n",
       "      <td>Rumble in the Bronx</td>\n",
       "      <td>First Strike</td>\n",
       "      <td>Shaolin</td>\n",
       "      <td>Kung Fu Jungle</td>\n",
       "      <td>Ip Man 3</td>\n",
       "      <td>Shaolin Soccer</td>\n",
       "      <td>Police Story 3: Supercop</td>\n",
       "    </tr>\n",
       "    <tr>\n",
       "      <th>zh</th>\n",
       "      <td>Dragon Blade</td>\n",
       "      <td>The Grandmaster</td>\n",
       "      <td>Wolf Totem</td>\n",
       "      <td>Detective Dee and the Mystery of the Phantom F...</td>\n",
       "      <td>The Assassin</td>\n",
       "      <td>2046</td>\n",
       "      <td>House of Flying Daggers</td>\n",
       "      <td>Red Cliff</td>\n",
       "      <td>Red Cliff Part II</td>\n",
       "      <td>The Flowers of War</td>\n",
       "    </tr>\n",
       "    <tr>\n",
       "      <th>English</th>\n",
       "      <th>en</th>\n",
       "      <td>House of the Dead</td>\n",
       "      <td>Battlefield Earth</td>\n",
       "      <td>Alone in the Dark</td>\n",
       "      <td>Disaster Movie</td>\n",
       "      <td>FearDotCom</td>\n",
       "      <td>Epic Movie</td>\n",
       "      <td>Jaws: The Revenge</td>\n",
       "      <td>Gigli</td>\n",
       "      <td>BloodRayne</td>\n",
       "      <td>Date Movie</td>\n",
       "    </tr>\n",
       "    <tr>\n",
       "      <th>French</th>\n",
       "      <th>fr</th>\n",
       "      <td>Asterix at the Olympic Games</td>\n",
       "      <td>HOUBA! On the Trail of the Marsupilami</td>\n",
       "      <td>Lolo</td>\n",
       "      <td>On the Other Side of the Tracks</td>\n",
       "      <td>Taxi 3</td>\n",
       "      <td>17 Girls</td>\n",
       "      <td>French Women</td>\n",
       "      <td>Beauty and the Beast</td>\n",
       "      <td>Barbecue</td>\n",
       "      <td>Personal Shopper</td>\n",
       "    </tr>\n",
       "    <tr>\n",
       "      <th>German</th>\n",
       "      <th>de</th>\n",
       "      <td>Rabbit Without Ears</td>\n",
       "      <td>Phoenix</td>\n",
       "      <td>Goodnight Mommy</td>\n",
       "      <td>Fuck You Goethe 2</td>\n",
       "      <td>Look Who's Back</td>\n",
       "      <td>Soul Kitchen</td>\n",
       "      <td>Run Lola Run</td>\n",
       "      <td>Head-On</td>\n",
       "      <td>Labyrinth of Lies</td>\n",
       "      <td>Toni Erdmann</td>\n",
       "    </tr>\n",
       "    <tr>\n",
       "      <th>Hindi</th>\n",
       "      <th>hi</th>\n",
       "      <td>Kal Ho Naa Ho</td>\n",
       "      <td>The Lunchbox</td>\n",
       "      <td>Taare Zameen Par</td>\n",
       "      <td>My Name Is Khan</td>\n",
       "      <td>Bajrangi Bhaijaan</td>\n",
       "      <td>Dangal</td>\n",
       "      <td>NaN</td>\n",
       "      <td>NaN</td>\n",
       "      <td>NaN</td>\n",
       "      <td>NaN</td>\n",
       "    </tr>\n",
       "    <tr>\n",
       "      <th>Japanese</th>\n",
       "      <th>ja</th>\n",
       "      <td>Pokémon: Spell of the Unknown</td>\n",
       "      <td>Pokémon: The Movie 2000</td>\n",
       "      <td>Space Pirate Captain Harlock</td>\n",
       "      <td>Tales from Earthsea</td>\n",
       "      <td>Dragon Ball Z: Battle of Gods</td>\n",
       "      <td>Shin Godzilla</td>\n",
       "      <td>Pokémon: The First Movie: Mewtwo Strikes Back</td>\n",
       "      <td>Death Note: The Last Name</td>\n",
       "      <td>Brother</td>\n",
       "      <td>Appleseed</td>\n",
       "    </tr>\n",
       "    <tr>\n",
       "      <th>Korean</th>\n",
       "      <th>ko</th>\n",
       "      <td>Dragon Wars: D-War</td>\n",
       "      <td>The Host</td>\n",
       "      <td>Snowpiercer</td>\n",
       "      <td>I'm a Cyborg, But That's OK</td>\n",
       "      <td>Sympathy for Mr. Vengeance</td>\n",
       "      <td>Sympathy for Lady Vengeance</td>\n",
       "      <td>Spring, Summer, Fall, Winter... and Spring</td>\n",
       "      <td>Mother</td>\n",
       "      <td>The Man from Nowhere</td>\n",
       "      <td>Train to Busan</td>\n",
       "    </tr>\n",
       "    <tr>\n",
       "      <th>Russian</th>\n",
       "      <th>ru</th>\n",
       "      <td>Day Watch</td>\n",
       "      <td>Mongol: The Rise of Genghis Khan</td>\n",
       "      <td>Russian Ark</td>\n",
       "      <td>Battleship Potemkin</td>\n",
       "      <td>NaN</td>\n",
       "      <td>NaN</td>\n",
       "      <td>NaN</td>\n",
       "      <td>NaN</td>\n",
       "      <td>NaN</td>\n",
       "      <td>NaN</td>\n",
       "    </tr>\n",
       "    <tr>\n",
       "      <th>Spanish</th>\n",
       "      <th>es</th>\n",
       "      <td>[REC]³ Genesis</td>\n",
       "      <td>[REC]⁴ Apocalypse</td>\n",
       "      <td>Aftershock</td>\n",
       "      <td>Bandidas</td>\n",
       "      <td>I'm So Excited!</td>\n",
       "      <td>To Steal from a Thief</td>\n",
       "      <td>The Clan</td>\n",
       "      <td>[REC]²</td>\n",
       "      <td>El Mariachi</td>\n",
       "      <td>Sex and Lucia</td>\n",
       "    </tr>\n",
       "  </tbody>\n",
       "</table>\n",
       "</div>"
      ],
      "text/plain": [
       "vote_rank                                              1   \\\n",
       "language original_language                                  \n",
       "Chinese  cn                            The Accidental Spy   \n",
       "         zh                                  Dragon Blade   \n",
       "English  en                             House of the Dead   \n",
       "French   fr                  Asterix at the Olympic Games   \n",
       "German   de                           Rabbit Without Ears   \n",
       "Hindi    hi                                 Kal Ho Naa Ho   \n",
       "Japanese ja                 Pokémon: Spell of the Unknown   \n",
       "Korean   ko                            Dragon Wars: D-War   \n",
       "Russian  ru                                     Day Watch   \n",
       "Spanish  es                                [REC]³ Genesis   \n",
       "\n",
       "vote_rank                                                       2   \\\n",
       "language original_language                                           \n",
       "Chinese  cn                                                    CJ7   \n",
       "         zh                                        The Grandmaster   \n",
       "English  en                                      Battlefield Earth   \n",
       "French   fr                 HOUBA! On the Trail of the Marsupilami   \n",
       "German   de                                                Phoenix   \n",
       "Hindi    hi                                           The Lunchbox   \n",
       "Japanese ja                                Pokémon: The Movie 2000   \n",
       "Korean   ko                                               The Host   \n",
       "Russian  ru                       Mongol: The Rise of Genghis Khan   \n",
       "Spanish  es                                      [REC]⁴ Apocalypse   \n",
       "\n",
       "vote_rank                                             3   \\\n",
       "language original_language                                 \n",
       "Chinese  cn                                 Mr. Nice Guy   \n",
       "         zh                                   Wolf Totem   \n",
       "English  en                            Alone in the Dark   \n",
       "French   fr                                         Lolo   \n",
       "German   de                              Goodnight Mommy   \n",
       "Hindi    hi                             Taare Zameen Par   \n",
       "Japanese ja                 Space Pirate Captain Harlock   \n",
       "Korean   ko                                  Snowpiercer   \n",
       "Russian  ru                                  Russian Ark   \n",
       "Spanish  es                                   Aftershock   \n",
       "\n",
       "vote_rank                                                                  4   \\\n",
       "language original_language                                                      \n",
       "Chinese  cn                                               Rumble in the Bronx   \n",
       "         zh                 Detective Dee and the Mystery of the Phantom F...   \n",
       "English  en                                                    Disaster Movie   \n",
       "French   fr                                   On the Other Side of the Tracks   \n",
       "German   de                                                 Fuck You Goethe 2   \n",
       "Hindi    hi                                                   My Name Is Khan   \n",
       "Japanese ja                                               Tales from Earthsea   \n",
       "Korean   ko                                       I'm a Cyborg, But That's OK   \n",
       "Russian  ru                                               Battleship Potemkin   \n",
       "Spanish  es                                                          Bandidas   \n",
       "\n",
       "vote_rank                                              5   \\\n",
       "language original_language                                  \n",
       "Chinese  cn                                  First Strike   \n",
       "         zh                                  The Assassin   \n",
       "English  en                                    FearDotCom   \n",
       "French   fr                                        Taxi 3   \n",
       "German   de                               Look Who's Back   \n",
       "Hindi    hi                             Bajrangi Bhaijaan   \n",
       "Japanese ja                 Dragon Ball Z: Battle of Gods   \n",
       "Korean   ko                    Sympathy for Mr. Vengeance   \n",
       "Russian  ru                                           NaN   \n",
       "Spanish  es                               I'm So Excited!   \n",
       "\n",
       "vote_rank                                            6   \\\n",
       "language original_language                                \n",
       "Chinese  cn                                     Shaolin   \n",
       "         zh                                        2046   \n",
       "English  en                                  Epic Movie   \n",
       "French   fr                                    17 Girls   \n",
       "German   de                                Soul Kitchen   \n",
       "Hindi    hi                                      Dangal   \n",
       "Japanese ja                               Shin Godzilla   \n",
       "Korean   ko                 Sympathy for Lady Vengeance   \n",
       "Russian  ru                                         NaN   \n",
       "Spanish  es                       To Steal from a Thief   \n",
       "\n",
       "vote_rank                                                              7   \\\n",
       "language original_language                                                  \n",
       "Chinese  cn                                                Kung Fu Jungle   \n",
       "         zh                                       House of Flying Daggers   \n",
       "English  en                                             Jaws: The Revenge   \n",
       "French   fr                                                  French Women   \n",
       "German   de                                                  Run Lola Run   \n",
       "Hindi    hi                                                           NaN   \n",
       "Japanese ja                 Pokémon: The First Movie: Mewtwo Strikes Back   \n",
       "Korean   ko                    Spring, Summer, Fall, Winter... and Spring   \n",
       "Russian  ru                                                           NaN   \n",
       "Spanish  es                                                      The Clan   \n",
       "\n",
       "vote_rank                                          8                     9   \\\n",
       "language original_language                                                    \n",
       "Chinese  cn                                  Ip Man 3        Shaolin Soccer   \n",
       "         zh                                 Red Cliff     Red Cliff Part II   \n",
       "English  en                                     Gigli            BloodRayne   \n",
       "French   fr                      Beauty and the Beast              Barbecue   \n",
       "German   de                                   Head-On     Labyrinth of Lies   \n",
       "Hindi    hi                                       NaN                   NaN   \n",
       "Japanese ja                 Death Note: The Last Name               Brother   \n",
       "Korean   ko                                    Mother  The Man from Nowhere   \n",
       "Russian  ru                                       NaN                   NaN   \n",
       "Spanish  es                                    [REC]²           El Mariachi   \n",
       "\n",
       "vote_rank                                         10  \n",
       "language original_language                            \n",
       "Chinese  cn                 Police Story 3: Supercop  \n",
       "         zh                       The Flowers of War  \n",
       "English  en                               Date Movie  \n",
       "French   fr                         Personal Shopper  \n",
       "German   de                             Toni Erdmann  \n",
       "Hindi    hi                                      NaN  \n",
       "Japanese ja                                Appleseed  \n",
       "Korean   ko                           Train to Busan  \n",
       "Russian  ru                                      NaN  \n",
       "Spanish  es                            Sex and Lucia  "
      ]
     },
     "execution_count": 34,
     "metadata": {},
     "output_type": "execute_result"
    }
   ],
   "source": [
    "cond = (movies.original_language.isin(top10_lang_rev.index)) & (movies.vote_count>100)\n",
    "title_vote_avg = movies.loc[cond,['title', 'vote_average', 'original_language']]\n",
    "\n",
    "grouped = title_vote_avg.groupby('original_language')\n",
    "title_vote_avg['vote_rank'] = grouped['vote_average'].rank(method='first').astype(int)\n",
    "title_vote_avg['language'] = title_vote_avg['original_language'].apply(get_language).fillna('Chinese')\n",
    "\n",
    "lang_top10 = title_vote_avg[title_vote_avg['vote_rank']<11]\n",
    "lang_top10.pivot(['language', 'original_language'], 'vote_rank', 'title')"
   ]
  },
  {
   "cell_type": "markdown",
   "metadata": {},
   "source": [
    "#### Genres of these movies"
   ]
  },
  {
   "cell_type": "code",
   "execution_count": 35,
   "metadata": {},
   "outputs": [
    {
     "name": "stdout",
     "output_type": "stream",
     "text": [
      "                                 title                                                    genres language\n",
      "                    The Accidental Spy                                  Action, Comedy, Thriller  Chinese\n",
      "                        Chinese Zodiac                                         Action, Adventure  Chinese\n",
      "                                   CJ7                                     Comedy, Drama, Family  Chinese\n",
      "                          Mr. Nicw Guy                                     Crime, Action, Comedy  Chinese\n",
      "                         Game of Death                            Drama, Action, Thriller, Crime  Chinese\n",
      "                               The Eye                                    Drama,Horror, Thriller  Chinese\n",
      "                   Rumble in the Bronx                            Crime, Action, Comedy,Thriller  Chinese\n",
      "                          First Strike            Action,Adventure,Comedy, Crime, Drama,Thriller  Chinese\n",
      "                               Shaolin                                             Action, Drama  Chinese\n",
      "                        Kung Fu Jungle                                  Crime, Action , Thriller  Chinese\n",
      "                     House of the Dead                                   Horror, Actin, Thriller  English\n",
      "                  Dragonball Evolution    Action, Adventure, Fantasy, Scienmce Fiction, Thriller  English\n",
      "                     Battlefield Earth                              Action, Science Fiction, War  English\n",
      "                     Alone in the Dark                         Action, Fantasy, Horror, Thriller  English\n",
      "                        Disaster Movie                                            Action, Comedy  English\n",
      "                            FearDotCom                                          Horror, Thriller  English\n",
      "                            Epic Movie                                 Action, Adventure, Comedy  English\n",
      "                            Rollerball                        Adventure, Action, Science Fiction  English\n",
      "                     Jaws: The Revenge                                        Adventure,Thriller  English\n",
      "                                 Gigli                                                     Drama  English\n",
      "            The Visitors: Bastille Day                                                    Comedy   French\n",
      "                                Desire                                             Drama Romance   French\n",
      "               French Fried Vacation 3                                                    Comedy   French\n",
      "                               Brice 3                                                    Comedy   French\n",
      "                            Lucky Luke                               Comedy, Western, Advemnture   French\n",
      "Astérix and Obélix: God Save Britannia                                 Family, Comedy, Adventure   French\n",
      "                   Sex, Love & Therapy                                           Comedy, Romance   French\n",
      "                        The Dream Team                                    Drama, Comedy, Romance   French\n",
      "                        Vive la France                                                    Comedy   French\n",
      "          Asterix at the Olympic Games                        Fantasy, Adventure, Comedy, Family   French\n",
      "                              Wetlands                                             Drama, Comedy   German\n",
      "                                 Cargo                        Thriller, Mystery, Science Fiction   German\n",
      "                   Rabbit Without Ears                                    Drama, Comedy, Romance   German\n",
      "                              Kokowaah                                                    Comedy   German\n",
      "                               Phoenix                                                     Drama   German\n",
      "                             3096 Days                                              Crime, Drama   German\n",
      "                              Ruby Red               Sciencr Fiction, Adventure, Fantasy, Family   German\n",
      "                       Goodnight Mommy                                   Drama, Horror, Thriller   German\n",
      "                     Fuck You Goethe 2                                                    Comedy   German\n",
      "                        Manitou's Shoe                                           Comedy, Western   German\n",
      "     Lagaan: Once Upon a Time in India                          Adventure, Drama, Music, Romance    Hindi\n",
      "                         Kal Ho Naa Ho                                             Comedy, Drama    Hindi\n",
      "                          The Lunchbox                                            Drama, Romance    Hindi\n",
      "              Kabhi Khushi Kabhie Gham                                             Comedy, Drama    Hindi\n",
      "                      Taare Zameen Par                                                     Drama    Hindi\n",
      "                       My Name Is Khan                                            Drama, Romance    Hindi\n",
      "                                    PK                            Comedy, Drama, Science Fiction    Hindi\n",
      "                     Bajrangi Bhaijaan                                  Adventure, Comedy, Drama    Hindi\n",
      "                              3 Idiots                                    Drama, Romance, Comedy    Hindi\n",
      "                                Dangal                                                     Drama    Hindi\n",
      "             Battle Royale II: Requiem                                          Action, Thriller Japanese\n",
      "      Saint Seiya: Legend of Sanctuary                                Action, Animation, Fantasy Japanese\n",
      "                       Attack on Titan           Horror, Fantasy, Drama, Action, Science Fiction Japanese\n",
      "         Pokémon: Spell of the Unknown             Adventure, Fantasy, Animation, Action, Family Japanese\n",
      "           Resident Evil: Degeneration                Animation, Horror, Action, Science Fiction Japanese\n",
      "               Pokémon: The Movie 2000    Adventure, Fantasy, Animation, Science Fiction, Family Japanese\n",
      "                          Suicide Club                                   Drama, Horror, Thriller Japanese\n",
      "                              Steamboy                       Animation, Science Fiction, Fantasy Japanese\n",
      "          Space Pirate Captain Harlock                                Animation, Science Fiction Japanese\n",
      "                       Appleseed Alpha                        Animation, Science Fiction, Action Japanese\n",
      "                     Dragon Wars: D-Wa Fantasy, Drama, Horror, Action, Thriller, Science Fiction   Korean\n",
      "                              The Host     Action, Adventure, Romance, Science Fiction, Thriller   Korean\n",
      "                           Snowpiercer                            Action, Science Fiction, Drama   Korean\n",
      "                 A Tale of Two Sisters                                    Drama, Horror, Mystery   Korean\n",
      "                                Thirst                                   Drama, Horror, Thriller   Korean\n",
      "           I'm a Cyborg, But That's OK                                    Drama, Comedy, Romance   Korean\n",
      "          The Good, The Bad, The Weird                       Action, Adventure, Comedy, Western    Korean\n",
      "                             New World                                                  Thriller   Korean\n",
      "                           The Wailing                                           Horror, Mystery   Korean\n",
      "                         My Sassy Girl                                    Comedy, Drama, Romance   Korean\n",
      "                             Guardians                          Action, Science Fiction, Fantasy  Russian\n",
      "                             Day Watch                                           Fantasy, horror  Russian\n",
      "                           Night Watch                                                       NaN  Russian\n",
      "      Mongol: The Rise of Genghis Khan                                                   History  Russian\n",
      "                           Russian Ark                          Mystery, Drama, Fantasy, History  Russian\n",
      "                             Leviathan                                                     Drama  Russian\n",
      "                            The Return                                  Thriller, Drama, Mystery  Russian\n",
      "                   Battleship Potemkin                                            Drama, Mystery  Russian\n",
      "                               Solaris                  Drama, Science Fistion, Mystery, Romance  Russian\n",
      "                      Ivan's Childhood                                                Drama, War  Russian\n",
      "                        [REC]³ Genesis                                                    Horror  Spanish\n",
      "                     [REC]? Apocalypse                                          Thriller, Horror  Spanish\n",
      "                            Aftershock                                          Thriller, Horror  Spanish\n",
      "                      Spanish Affair 2                                           Comedy, Romance  Spanish\n",
      "                          Room in Rome                                            Drama, Romance  Spanish\n",
      "                         The Last Days                      Science Fiction, Adventure, Thriller  Spanish\n",
      "                Tad, the Lost Explorer                      Animation, Adventure, Family, Comedy  Spanish\n",
      "                              Bandidas                            Action, Comedy, Western, Crime  Spanish\n",
      "                       I'm So Excited!                                                    Comedy  Spanish\n",
      "                             Underdogs                             Adventure, Romance, Animation  Spanish\n"
     ]
    }
   ],
   "source": [
    "import pandas as pd\n",
    "\n",
    "\n",
    "movies1 = pd.read_csv('Book1.csv', encoding='latin-1')\n",
    "\n",
    "\n",
    "print(movies1[['title', 'genres', 'language']].to_string(index=False))"
   ]
  },
  {
   "cell_type": "markdown",
   "metadata": {},
   "source": [
    "#### Most Popular Genres in the specific language. "
   ]
  },
  {
   "cell_type": "code",
   "execution_count": 36,
   "metadata": {},
   "outputs": [
    {
     "name": "stdout",
     "output_type": "stream",
     "text": [
      "language\n",
      "Chinese                       Action, Adventure\n",
      "English               Action, Adventure, Comedy\n",
      "French                                   Comedy\n",
      "German                                   Comedy\n",
      "Hindi                             Comedy, Drama\n",
      "Japanese             Action, Animation, Fantasy\n",
      "Korean      Action, Adventure, Comedy, Western \n",
      "Russian        Action, Science Fiction, Fantasy\n",
      "Spanish                        Thriller, Horror\n",
      "Name: genres, dtype: object\n"
     ]
    }
   ],
   "source": [
    "\n",
    "most_common_genre_per_language = movies1.groupby('language')['genres'].apply(lambda x: x.mode().iloc[0])\n",
    "\n",
    "\n",
    "print(most_common_genre_per_language)\n"
   ]
  },
  {
   "cell_type": "markdown",
   "metadata": {
    "id": "0s5VYArlH8sa"
   },
   "source": [
    "<hr style=\"height:2px; border-radius:10px; background: linear-gradient(to right, #0F2027, #203A43, #2C5364);\"> </hr>"
   ]
  }
 ],
 "metadata": {
  "accelerator": "TPU",
  "colab": {
   "provenance": []
  },
  "kaggle": {
   "accelerator": "none",
   "dataSources": [
    {
     "datasetId": 3405,
     "sourceId": 6663,
     "sourceType": "datasetVersion"
    }
   ],
   "dockerImageVersionId": 30014,
   "isGpuEnabled": false,
   "isInternetEnabled": false,
   "language": "python",
   "sourceType": "notebook"
  },
  "kernelspec": {
   "display_name": "Python 3 (ipykernel)",
   "language": "python",
   "name": "python3"
  },
  "language_info": {
   "codemirror_mode": {
    "name": "ipython",
    "version": 3
   },
   "file_extension": ".py",
   "mimetype": "text/x-python",
   "name": "python",
   "nbconvert_exporter": "python",
   "pygments_lexer": "ipython3",
   "version": "3.11.5"
  }
 },
 "nbformat": 4,
 "nbformat_minor": 1
}
